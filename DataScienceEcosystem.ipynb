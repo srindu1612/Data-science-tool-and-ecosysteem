{
 "cells": [
  {
   "cell_type": "markdown",
   "id": "30771971-a7c5-4832-a2e6-9761ac60ba95",
   "metadata": {
    "tags": []
   },
   "source": [
    "# Data Science Tools and Ecosystem"
   ]
  },
  {
   "cell_type": "markdown",
   "id": "91223400-b3d0-4638-84a8-fd8adfea766d",
   "metadata": {},
   "source": [
    "## Introductory section:\n",
    "\n",
    "#### In this notebook, Data Science Tools and Ecosystem are summarized.There are many different types of tool that support data science. Tools maybe open sources,commercial sources and cloud based tools depending upon the environment the data scientist wants to work with."
   ]
  },
  {
   "cell_type": "markdown",
   "id": "e48ccc14-5f62-4310-b474-6a3bc420ff8f",
   "metadata": {
    "tags": []
   },
   "source": [
    "**Objectives**\n",
    "\n",
    "###### Libraries may be classified as\n",
    "\n",
    "* Scientific library\n",
    "* Visualization library\n",
    "* Machine learning\n",
    "* Deep learning"
   ]
  },
  {
   "cell_type": "markdown",
   "id": "63f7de65-72f4-4a29-96b9-a383e3948342",
   "metadata": {
    "tags": []
   },
   "source": [
    "# Languages of data science:\n",
    "1. Python\n",
    "2. R\n",
    "3. SQL\n",
    "4. Julia,Ruby,Java,c##"
   ]
  },
  {
   "cell_type": "markdown",
   "id": "a0af07a4-ea4c-4727-bb5d-967bda4393c9",
   "metadata": {},
   "source": [
    "# Libraries of data science\n",
    "#### Some of the commonly used library used by data scientist are as follows\n",
    "1. pandas\n",
    "2. Numpy\n",
    "3. Matplotlib\n",
    "4. Seaborn\n",
    "5. scikit learn\n",
    "6. keras"
   ]
  },
  {
   "cell_type": "markdown",
   "id": "1129f6d3-c7c7-4a07-8843-92c701c370a7",
   "metadata": {},
   "source": [
    "# Table for data science tools:\n",
    "\n",
    "\n",
    "| No. | open source tool in developmemt environment |\n",
    "| -------------| ------ |\n",
    "| 1 | Jupyter |\n",
    "| 2 | RStudio |\n",
    "| 3 | Spark|"
   ]
  },
  {
   "cell_type": "markdown",
   "id": "8ae20d42-a7b2-4a4f-8c17-2a791d25c8b0",
   "metadata": {
    "tags": []
   },
   "source": [
    "### Arithmetic expression examples:\n",
    "\n",
    "3*5\n",
    "\n",
    "4+5"
   ]
  },
  {
   "cell_type": "code",
   "execution_count": 4,
   "id": "f838b6f9-7a91-492f-ba05-8c40c537be25",
   "metadata": {
    "tags": []
   },
   "outputs": [
    {
     "data": {
      "text/plain": [
       "17"
      ]
     },
     "execution_count": 4,
     "metadata": {},
     "output_type": "execute_result"
    }
   ],
   "source": [
    "#This a simple arithmetic expression to mutiply then add integers.\n",
    "(3*4)+5"
   ]
  },
  {
   "cell_type": "code",
   "execution_count": 6,
   "id": "993fc7a6-c220-4f7d-ab68-a859964d32c4",
   "metadata": {
    "tags": []
   },
   "outputs": [
    {
     "name": "stdout",
     "output_type": "stream",
     "text": [
      "3.33 hrs\n"
     ]
    }
   ],
   "source": [
    "# This will convert 200 minutes to hours by diving by 60.\n",
    "\n",
    "print(round(200/60,2),\"hrs\")\n"
   ]
  },
  {
   "cell_type": "markdown",
   "id": "f3efb569-0a2e-4731-852c-2157488ba1d4",
   "metadata": {},
   "source": [
    "## Author\n",
    "\n",
    "###### Indumathi Devendiran"
   ]
  }
 ],
 "metadata": {
  "kernelspec": {
   "display_name": "Python",
   "language": "python",
   "name": "conda-env-python-py"
  },
  "language_info": {
   "codemirror_mode": {
    "name": "ipython",
    "version": 3
   },
   "file_extension": ".py",
   "mimetype": "text/x-python",
   "name": "python",
   "nbconvert_exporter": "python",
   "pygments_lexer": "ipython3",
   "version": "3.7.12"
  }
 },
 "nbformat": 4,
 "nbformat_minor": 5
}
